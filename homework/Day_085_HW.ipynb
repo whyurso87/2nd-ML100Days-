{
 "cells": [
  {
   "cell_type": "markdown",
   "metadata": {},
   "source": [
    "## Work\n",
    "1. 試改變 monitor \"Validation Accuracy\" 並比較結果\n",
    "2. 調整 earlystop 的等待次數至 10, 25 並比較結果"
   ]
  },
  {
   "cell_type": "code",
   "execution_count": 2,
   "metadata": {},
   "outputs": [],
   "source": [
    "import os\n",
    "import keras\n",
    "import matplotlib.pyplot as plt\n",
    "%matplotlib inline\n",
    "\n",
    "\n",
    "# Disable GPU\n",
    "os.environ[\"CUDA_VISIBLE_DEVICES\"] = \"\""
   ]
  },
  {
   "cell_type": "code",
   "execution_count": 3,
   "metadata": {},
   "outputs": [],
   "source": [
    "train, test = keras.datasets.cifar10.load_data()"
   ]
  },
  {
   "cell_type": "code",
   "execution_count": 4,
   "metadata": {},
   "outputs": [],
   "source": [
    "## 資料前處理\n",
    "def preproc_x(x, flatten=True):\n",
    "    x = x / 255.\n",
    "    if flatten:\n",
    "        x = x.reshape((len(x), -1))\n",
    "    return x\n",
    "\n",
    "def preproc_y(y, num_classes=10):\n",
    "    if y.shape[-1] == 1:\n",
    "        y = keras.utils.to_categorical(y, num_classes)\n",
    "    return y    "
   ]
  },
  {
   "cell_type": "code",
   "execution_count": 5,
   "metadata": {},
   "outputs": [],
   "source": [
    "x_train, y_train = train\n",
    "x_test, y_test = test\n",
    "\n",
    "# Preproc the inputs\n",
    "x_train = preproc_x(x_train)\n",
    "x_test = preproc_x(x_test)\n",
    "\n",
    "# Preprc the outputs\n",
    "y_train = preproc_y(y_train)\n",
    "y_test = preproc_y(y_test)"
   ]
  },
  {
   "cell_type": "code",
   "execution_count": 6,
   "metadata": {},
   "outputs": [],
   "source": [
    "\n",
    "def build_mlp(input_shape, output_units=10, num_neurons=[512, 256, 128]):\n",
    "    \"\"\"Code Here\n",
    "    建立你的神經網路\n",
    "    \"\"\"\n",
    "    input_layer = keras.layers.Input(input_shape)\n",
    "    \n",
    "    for i, n_units in enumerate(num_neurons):\n",
    "        if i == 0:\n",
    "            x = keras.layers.Dense(units=n_units, \n",
    "                                   activation=\"relu\", \n",
    "                                   name=\"hidden_layer\"+str(i+1))(input_layer)\n",
    "\n",
    "        else:\n",
    "            x = keras.layers.Dense(units=n_units, \n",
    "                                   activation=\"relu\", \n",
    "                                   name=\"hidden_layer\"+str(i+1))(x)\n",
    "\n",
    "    \n",
    "    out = keras.layers.Dense(units=output_units, activation=\"softmax\", name=\"output\")(x)\n",
    "    \n",
    "    model = keras.models.Model(inputs=[input_layer], outputs=[out])\n",
    "    return model"
   ]
  },
  {
   "cell_type": "code",
   "execution_count": 9,
   "metadata": {},
   "outputs": [],
   "source": [
    "\"\"\"Code Here\n",
    "設定超參數\n",
    "\"\"\"\n",
    "LEARNING_RATE = 0.001\n",
    "EPOCHS = 50\n",
    "BATCH_SIZE = 512\n",
    "MOMENTUM = 0.95"
   ]
  },
  {
   "cell_type": "code",
   "execution_count": 10,
   "metadata": {},
   "outputs": [
    {
     "name": "stdout",
     "output_type": "stream",
     "text": [
      "=== earlystopvalacc ===\n",
      "WARNING:tensorflow:From C:\\ProgramData\\Anaconda3\\lib\\site-packages\\tensorflow\\python\\framework\\op_def_library.py:263: colocate_with (from tensorflow.python.framework.ops) is deprecated and will be removed in a future version.\n",
      "Instructions for updating:\n",
      "Colocations handled automatically by placer.\n",
      "_________________________________________________________________\n",
      "Layer (type)                 Output Shape              Param #   \n",
      "=================================================================\n",
      "input_1 (InputLayer)         (None, 3072)              0         \n",
      "_________________________________________________________________\n",
      "hidden_layer1 (Dense)        (None, 512)               1573376   \n",
      "_________________________________________________________________\n",
      "hidden_layer2 (Dense)        (None, 256)               131328    \n",
      "_________________________________________________________________\n",
      "hidden_layer3 (Dense)        (None, 128)               32896     \n",
      "_________________________________________________________________\n",
      "output (Dense)               (None, 10)                1290      \n",
      "=================================================================\n",
      "Total params: 1,738,890\n",
      "Trainable params: 1,738,890\n",
      "Non-trainable params: 0\n",
      "_________________________________________________________________\n",
      "WARNING:tensorflow:From C:\\ProgramData\\Anaconda3\\lib\\site-packages\\tensorflow\\python\\ops\\math_ops.py:3066: to_int32 (from tensorflow.python.ops.math_ops) is deprecated and will be removed in a future version.\n",
      "Instructions for updating:\n",
      "Use tf.cast instead.\n",
      "Train on 50000 samples, validate on 10000 samples\n",
      "Epoch 1/50\n",
      "50000/50000 [==============================] - 3s 60us/step - loss: 2.1381 - acc: 0.2259 - val_loss: 1.9819 - val_acc: 0.3090\n",
      "Epoch 2/50\n",
      "50000/50000 [==============================] - 2s 35us/step - loss: 1.9134 - acc: 0.3292 - val_loss: 1.8643 - val_acc: 0.3459\n",
      "Epoch 3/50\n",
      "50000/50000 [==============================] - 2s 35us/step - loss: 1.8312 - acc: 0.3610 - val_loss: 1.8047 - val_acc: 0.3652\n",
      "Epoch 4/50\n",
      "50000/50000 [==============================] - 2s 35us/step - loss: 1.7806 - acc: 0.3784 - val_loss: 1.7609 - val_acc: 0.3843\n",
      "Epoch 5/50\n",
      "50000/50000 [==============================] - 2s 35us/step - loss: 1.7408 - acc: 0.3918 - val_loss: 1.7232 - val_acc: 0.3961\n",
      "Epoch 6/50\n",
      "50000/50000 [==============================] - 2s 35us/step - loss: 1.7060 - acc: 0.4031 - val_loss: 1.6922 - val_acc: 0.4071\n",
      "Epoch 7/50\n",
      "50000/50000 [==============================] - 2s 35us/step - loss: 1.6752 - acc: 0.4156 - val_loss: 1.6631 - val_acc: 0.4175s: 1.6768 - acc\n",
      "Epoch 8/50\n",
      "50000/50000 [==============================] - 2s 35us/step - loss: 1.6480 - acc: 0.4233 - val_loss: 1.6400 - val_acc: 0.428680 - acc: 0.423\n",
      "Epoch 9/50\n",
      "50000/50000 [==============================] - 2s 35us/step - loss: 1.6232 - acc: 0.4324 - val_loss: 1.6213 - val_acc: 0.4289A: 0s - loss: 1.6238 - acc: 0.43\n",
      "Epoch 10/50\n",
      "50000/50000 [==============================] - 2s 35us/step - loss: 1.6003 - acc: 0.4410 - val_loss: 1.5979 - val_acc: 0.4418\n",
      "Epoch 11/50\n",
      "50000/50000 [==============================] - 2s 36us/step - loss: 1.5789 - acc: 0.4477 - val_loss: 1.5835 - val_acc: 0.4450loss: 1.5822 - acc\n",
      "Epoch 12/50\n",
      "50000/50000 [==============================] - 2s 35us/step - loss: 1.5592 - acc: 0.4541 - val_loss: 1.5649 - val_acc: 0.4471\n",
      "Epoch 13/50\n",
      "50000/50000 [==============================] - 2s 35us/step - loss: 1.5411 - acc: 0.4601 - val_loss: 1.5512 - val_acc: 0.4581\n",
      "Epoch 14/50\n",
      "50000/50000 [==============================] - 2s 35us/step - loss: 1.5233 - acc: 0.4666 - val_loss: 1.5407 - val_acc: 0.4625\n",
      "Epoch 15/50\n",
      "50000/50000 [==============================] - 2s 36us/step - loss: 1.5080 - acc: 0.4725 - val_loss: 1.5276 - val_acc: 0.4550\n",
      "Epoch 16/50\n",
      "50000/50000 [==============================] - 2s 34us/step - loss: 1.4925 - acc: 0.4766 - val_loss: 1.5127 - val_acc: 0.4701\n",
      "Epoch 17/50\n",
      "50000/50000 [==============================] - 2s 35us/step - loss: 1.4775 - acc: 0.4812 - val_loss: 1.5029 - val_acc: 0.4699\n",
      "Epoch 18/50\n",
      "50000/50000 [==============================] - 2s 34us/step - loss: 1.4635 - acc: 0.4869 - val_loss: 1.4946 - val_acc: 0.4725\n",
      "Epoch 19/50\n",
      "50000/50000 [==============================] - 2s 34us/step - loss: 1.4500 - acc: 0.4912 - val_loss: 1.4835 - val_acc: 0.4770\n",
      "Epoch 20/50\n",
      "50000/50000 [==============================] - 2s 35us/step - loss: 1.4372 - acc: 0.4956 - val_loss: 1.4686 - val_acc: 0.4808\n",
      "Epoch 21/50\n",
      "50000/50000 [==============================] - 2s 35us/step - loss: 1.4247 - acc: 0.4990 - val_loss: 1.4697 - val_acc: 0.4791\n",
      "Epoch 22/50\n",
      "50000/50000 [==============================] - 2s 35us/step - loss: 1.4110 - acc: 0.5046 - val_loss: 1.4603 - val_acc: 0.4840\n",
      "Epoch 23/50\n",
      "50000/50000 [==============================] - 2s 35us/step - loss: 1.3992 - acc: 0.5076 - val_loss: 1.4503 - val_acc: 0.4880.3988 - acc: 0.5\n",
      "Epoch 24/50\n",
      "50000/50000 [==============================] - 2s 34us/step - loss: 1.3866 - acc: 0.5118 - val_loss: 1.4434 - val_acc: 0.4902\n",
      "Epoch 25/50\n",
      "50000/50000 [==============================] - 2s 34us/step - loss: 1.3762 - acc: 0.5175 - val_loss: 1.4323 - val_acc: 0.4923\n",
      "Epoch 26/50\n",
      "50000/50000 [==============================] - 2s 34us/step - loss: 1.3646 - acc: 0.5196 - val_loss: 1.4285 - val_acc: 0.4944\n",
      "Epoch 27/50\n",
      "50000/50000 [==============================] - 2s 35us/step - loss: 1.3534 - acc: 0.5245 - val_loss: 1.4207 - val_acc: 0.4990\n",
      "Epoch 28/50\n",
      "50000/50000 [==============================] - 2s 35us/step - loss: 1.3435 - acc: 0.5288 - val_loss: 1.4166 - val_acc: 0.5016\n",
      "Epoch 29/50\n",
      "50000/50000 [==============================] - 2s 35us/step - loss: 1.3325 - acc: 0.5320 - val_loss: 1.4141 - val_acc: 0.4989\n",
      "Epoch 30/50\n",
      "50000/50000 [==============================] - 2s 35us/step - loss: 1.3220 - acc: 0.5354 - val_loss: 1.4030 - val_acc: 0.5014\n",
      "Epoch 31/50\n",
      "50000/50000 [==============================] - 2s 35us/step - loss: 1.3108 - acc: 0.5396 - val_loss: 1.4050 - val_acc: 0.4960\n",
      "Epoch 32/50\n",
      "50000/50000 [==============================] - 2s 35us/step - loss: 1.3022 - acc: 0.5421 - val_loss: 1.4028 - val_acc: 0.5031\n",
      "Epoch 33/50\n",
      "50000/50000 [==============================] - 2s 35us/step - loss: 1.2912 - acc: 0.5463 - val_loss: 1.3957 - val_acc: 0.5056\n",
      "Epoch 34/50\n",
      "50000/50000 [==============================] - 2s 35us/step - loss: 1.2829 - acc: 0.5496 - val_loss: 1.4076 - val_acc: 0.4929\n",
      "Epoch 35/50\n",
      "50000/50000 [==============================] - 2s 35us/step - loss: 1.2719 - acc: 0.5511 - val_loss: 1.3912 - val_acc: 0.5061\n",
      "Epoch 36/50\n",
      "50000/50000 [==============================] - 2s 35us/step - loss: 1.2616 - acc: 0.5550 - val_loss: 1.3864 - val_acc: 0.5055\n",
      "Epoch 37/50\n",
      "50000/50000 [==============================] - 2s 35us/step - loss: 1.2520 - acc: 0.5615 - val_loss: 1.3706 - val_acc: 0.5130\n",
      "Epoch 38/50\n",
      "50000/50000 [==============================] - 2s 35us/step - loss: 1.2428 - acc: 0.5636 - val_loss: 1.3655 - val_acc: 0.5150\n",
      "Epoch 39/50\n",
      "50000/50000 [==============================] - 2s 35us/step - loss: 1.2343 - acc: 0.5656 - val_loss: 1.3675 - val_acc: 0.5135\n",
      "Epoch 40/50\n",
      "50000/50000 [==============================] - 2s 36us/step - loss: 1.2241 - acc: 0.5698 - val_loss: 1.3590 - val_acc: 0.5172\n",
      "Epoch 41/50\n",
      "50000/50000 [==============================] - 2s 35us/step - loss: 1.2158 - acc: 0.5708 - val_loss: 1.3694 - val_acc: 0.5159\n",
      "Epoch 42/50\n",
      "50000/50000 [==============================] - 2s 36us/step - loss: 1.2081 - acc: 0.5757 - val_loss: 1.3619 - val_acc: 0.5168\n",
      "Epoch 43/50\n",
      "50000/50000 [==============================] - 2s 35us/step - loss: 1.1991 - acc: 0.5793 - val_loss: 1.3568 - val_acc: 0.5176\n",
      "Epoch 44/50\n",
      "50000/50000 [==============================] - 2s 36us/step - loss: 1.1892 - acc: 0.5839 - val_loss: 1.3550 - val_acc: 0.5187\n",
      "Epoch 45/50\n",
      "50000/50000 [==============================] - 2s 35us/step - loss: 1.1838 - acc: 0.5834 - val_loss: 1.3509 - val_acc: 0.5217\n",
      "Epoch 46/50\n",
      "50000/50000 [==============================] - 2s 35us/step - loss: 1.1713 - acc: 0.5882 - val_loss: 1.3412 - val_acc: 0.5242\n",
      "Epoch 47/50\n",
      "50000/50000 [==============================] - 2s 35us/step - loss: 1.1617 - acc: 0.5946 - val_loss: 1.3428 - val_acc: 0.5220\n"
     ]
    },
    {
     "name": "stdout",
     "output_type": "stream",
     "text": [
      "Epoch 48/50\n",
      "50000/50000 [==============================] - 2s 35us/step - loss: 1.1527 - acc: 0.5954 - val_loss: 1.3384 - val_acc: 0.5252\n",
      "Epoch 49/50\n",
      "50000/50000 [==============================] - 2s 35us/step - loss: 1.1454 - acc: 0.5985 - val_loss: 1.3773 - val_acc: 0.5097\n",
      "Epoch 50/50\n",
      "50000/50000 [==============================] - 2s 35us/step - loss: 1.1375 - acc: 0.6009 - val_loss: 1.3336 - val_acc: 0.5253\n"
     ]
    }
   ],
   "source": [
    "# 載入 Callbacks\n",
    "\"\"\"Code Here\n",
    "設定 callbacks: Earlystop\n",
    "\"\"\"\n",
    "from keras.callbacks import EarlyStopping\n",
    "#earlystop = EarlyStopping(monitor=\"val_loss\", \n",
    "earlystop = EarlyStopping(monitor=\"val_acc\",                           \n",
    "                          patience=5, \n",
    "                          verbose=1\n",
    "                          )\n",
    "results = {}\n",
    "exp_name_tag = \"earlystopvalacc\"\n",
    "print(\"===\",exp_name_tag,\"===\")\n",
    "model = build_mlp(input_shape=x_train.shape[1:])\n",
    "model.summary()\n",
    "optimizer = keras.optimizers.SGD(lr=LEARNING_RATE, nesterov=True, momentum=MOMENTUM)\n",
    "model.compile(loss=\"categorical_crossentropy\", metrics=[\"accuracy\"], optimizer=optimizer)\n",
    "\n",
    "model.fit(x_train, y_train, \n",
    "          epochs=EPOCHS, \n",
    "          batch_size=BATCH_SIZE, \n",
    "          validation_data=(x_test, y_test), \n",
    "          shuffle=True,\n",
    "          callbacks=[earlystop]\n",
    "         )\n",
    "\n",
    "# Collect results\n",
    "train_loss = model.history.history[\"loss\"]\n",
    "valid_loss = model.history.history[\"val_loss\"]\n",
    "train_acc = model.history.history[\"acc\"]\n",
    "valid_acc = model.history.history[\"val_acc\"]\n",
    "\n",
    "results[exp_name_tag] = {'train-loss': train_loss,\n",
    "                         'valid-loss': valid_loss,\n",
    "                         'train-acc': train_acc,\n",
    "                         'valid-acc': valid_acc}"
   ]
  },
  {
   "cell_type": "code",
   "execution_count": 12,
   "metadata": {},
   "outputs": [
    {
     "data": {
      "image/png": "[encoded data removed]",
      "text/plain": [
       "<Figure size 288x216 with 1 Axes>"
      ]
     },
     "metadata": {
      "needs_background": "light"
     },
     "output_type": "display_data"
    },
    {
     "data": {
      "image/png": "[encoded data removed]",
      "text/plain": [
       "<Figure size 288x216 with 1 Axes>"
      ]
     },
     "metadata": {
      "needs_background": "light"
     },
     "output_type": "display_data"
    }
   ],
   "source": [
    "import matplotlib.pyplot as plt\n",
    "%matplotlib inline\n",
    "\"\"\"Code Here\n",
    "將結果繪出\n",
    "\"\"\"\n",
    "\n",
    "color_bar = [\"r\", \"g\", ]\n",
    "\n",
    "plt.figure(figsize=(4,3))\n",
    "for i, cond in enumerate(results.keys()):\n",
    "    plt.plot(range(len(results[cond]['train-loss'])),results[cond]['train-loss'], '-', label=cond, color=color_bar[i % len(color_bar)])\n",
    "    plt.plot(range(len(results[cond]['valid-loss'])),results[cond]['valid-loss'], '--', label=cond, color=color_bar[i % len(color_bar)])\n",
    "plt.title(\"Loss\")\n",
    "plt.ylim([0, 5])\n",
    "plt.legend()\n",
    "plt.show()\n",
    "\n",
    "plt.figure(figsize=(4,3))\n",
    "for i, cond in enumerate(results.keys()):\n",
    "    plt.plot(range(len(results[cond]['train-acc'])),results[cond]['train-acc'], '-', label=cond, color=color_bar[i % len(color_bar)])\n",
    "    plt.plot(range(len(results[cond]['valid-acc'])),results[cond]['valid-acc'], '--', label=cond, color=color_bar[i % len(color_bar)])\n",
    "plt.title(\"Accuracy\")\n",
    "plt.legend()\n",
    "plt.show()"
   ]
  },
  {
   "cell_type": "code",
   "execution_count": null,
   "metadata": {},
   "outputs": [],
   "source": []
  }
 ],
 "metadata": {
  "kernelspec": {
   "display_name": "Python 3",
   "language": "python",
   "name": "python3"
  },
  "language_info": {
   "codemirror_mode": {
    "name": "ipython",
    "version": 3
   },
   "file_extension": ".py",
   "mimetype": "text/x-python",
   "name": "python",
   "nbconvert_exporter": "python",
   "pygments_lexer": "ipython3",
   "version": "3.6.8"
  }
 },
 "nbformat": 4,
 "nbformat_minor": 2
}
