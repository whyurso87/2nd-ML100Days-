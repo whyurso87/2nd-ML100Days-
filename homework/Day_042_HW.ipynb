{
 "cells": [
  {
   "cell_type": "markdown",
   "metadata": {},
   "source": [
    "## [作業重點]\n",
    "目前你應該已經要很清楚資料集中，資料的型態是什麼樣子囉！包含特徵 (features) 與標籤 (labels)。因此要記得未來不管什麼專案，必須要把資料清理成相同的格式，才能送進模型訓練。\n",
    "今天的作業開始踏入決策樹這個非常重要的模型，請務必確保你理解模型中每個超參數的意思，並試著調整看看，對最終預測結果的影響為何"
   ]
  },
  {
   "cell_type": "markdown",
   "metadata": {},
   "source": [
    "## 作業\n",
    "\n",
    "1. 試著調整 DecisionTreeClassifier(...) 中的參數，並觀察是否會改變結果？\n",
    "2. 改用其他資料集 (boston, wine)，並與回歸模型的結果進行比較"
   ]
  },
  {
   "cell_type": "code",
   "execution_count": 1,
   "metadata": {},
   "outputs": [],
   "source": [
    "from sklearn import datasets, metrics\n",
    "\n",
    "# 如果是分類問題，請使用 DecisionTreeClassifier，若為回歸問題，請使用 DecisionTreeRegressor\n",
    "from sklearn.tree import DecisionTreeClassifier, DecisionTreeRegressor\n",
    "from sklearn.model_selection import train_test_split"
   ]
  },
  {
   "cell_type": "code",
   "execution_count": 2,
   "metadata": {},
   "outputs": [],
   "source": [
    "boston = datasets.load_boston()"
   ]
  },
  {
   "cell_type": "code",
   "execution_count": 3,
   "metadata": {},
   "outputs": [],
   "source": [
    "x_train, x_test, y_train, y_test = train_test_split(boston.data, boston.target, test_size=0.25, random_state=4)"
   ]
  },
  {
   "cell_type": "code",
   "execution_count": 5,
   "metadata": {},
   "outputs": [
    {
     "name": "stdout",
     "output_type": "stream",
     "text": [
      "[16.5 24.8 17.4 19.3 37.6 24.2 35.4 19.9 27.5 17.  31.2 24.4 16.1 27.\n",
      " 21.  14.9 18.9  6.3 16.3 13.9  8.8 19.4 18.8 19.8 17.5 19.3 20.  14.3\n",
      " 16.1 19.5 11.  21.9 31.  22.  15.1 13.3 28.7 46.7 22.2 22.8 42.3 41.3\n",
      " 16.7 31.1 26.7 19.4 50.  16.6 19.5 24.4 28.5 22.3 12.1 28.6 15.6 19.2\n",
      " 27.5 32.  20.2 32.4 18.4 19.9 29.8 20.1 43.5 24.5 50.   7.2 19.1 21.2\n",
      " 22.6 22.9 25.  23.3 17.3 33.  17.8 23.8 10.9 18.6 19.3 16.7 28.  18.2\n",
      " 29.1 11.9 32.7 18.3 22.4 45.4 31.5 48.5 19.8 41.7 22.2 20.3 20.7 50.\n",
      " 11.8 19.5  8.7 23.3 36.4 13.3 24.8 20.4 44.  29.  39.8 22.9 23.  15.3\n",
      " 23.7 30.5 33.2 26.4 50.  14.2  8.1 16.  20.   8.5 23.7 26.4 18.5 20.\n",
      " 50. ]\n"
     ]
    }
   ],
   "source": [
    "print(y_test)\n",
    "#regression"
   ]
  },
  {
   "cell_type": "code",
   "execution_count": 6,
   "metadata": {},
   "outputs": [],
   "source": [
    "reg = DecisionTreeRegressor()"
   ]
  },
  {
   "cell_type": "code",
   "execution_count": 7,
   "metadata": {},
   "outputs": [
    {
     "data": {
      "text/plain": [
       "DecisionTreeRegressor(criterion='mse', max_depth=None, max_features=None,\n",
       "           max_leaf_nodes=None, min_impurity_decrease=0.0,\n",
       "           min_impurity_split=None, min_samples_leaf=1,\n",
       "           min_samples_split=2, min_weight_fraction_leaf=0.0,\n",
       "           presort=False, random_state=None, splitter='best')"
      ]
     },
     "execution_count": 7,
     "metadata": {},
     "output_type": "execute_result"
    }
   ],
   "source": [
    "reg.fit(x_train,y_train)"
   ]
  },
  {
   "cell_type": "code",
   "execution_count": 8,
   "metadata": {},
   "outputs": [],
   "source": [
    "y_pred = reg.predict(x_test)"
   ]
  },
  {
   "cell_type": "code",
   "execution_count": 10,
   "metadata": {},
   "outputs": [
    {
     "name": "stdout",
     "output_type": "stream",
     "text": [
      "mean_squared_error:  30.164251968503933\n"
     ]
    }
   ],
   "source": [
    "mse = metrics.mean_squared_error(y_test, y_pred)\n",
    "print(\"mean_squared_error: \", mse)"
   ]
  },
  {
   "cell_type": "code",
   "execution_count": 11,
   "metadata": {},
   "outputs": [
    {
     "name": "stdout",
     "output_type": "stream",
     "text": [
      "[16.5 24.8 17.4 19.3 37.6 24.2 35.4 19.9 27.5 17.  31.2 24.4 16.1 27.\n",
      " 21.  14.9 18.9  6.3 16.3 13.9  8.8 19.4 18.8 19.8 17.5 19.3 20.  14.3\n",
      " 16.1 19.5 11.  21.9 31.  22.  15.1 13.3 28.7 46.7 22.2 22.8 42.3 41.3\n",
      " 16.7 31.1 26.7 19.4 50.  16.6 19.5 24.4 28.5 22.3 12.1 28.6 15.6 19.2\n",
      " 27.5 32.  20.2 32.4 18.4 19.9 29.8 20.1 43.5 24.5 50.   7.2 19.1 21.2\n",
      " 22.6 22.9 25.  23.3 17.3 33.  17.8 23.8 10.9 18.6 19.3 16.7 28.  18.2\n",
      " 29.1 11.9 32.7 18.3 22.4 45.4 31.5 48.5 19.8 41.7 22.2 20.3 20.7 50.\n",
      " 11.8 19.5  8.7 23.3 36.4 13.3 24.8 20.4 44.  29.  39.8 22.9 23.  15.3\n",
      " 23.7 30.5 33.2 26.4 50.  14.2  8.1 16.  20.   8.5 23.7 26.4 18.5 20.\n",
      " 50. ]\n"
     ]
    }
   ],
   "source": [
    "print(y_test)"
   ]
  },
  {
   "cell_type": "code",
   "execution_count": 12,
   "metadata": {},
   "outputs": [
    {
     "name": "stdout",
     "output_type": "stream",
     "text": [
      "[14.6 25.1 20.9 22.5 44.8 23.7 37.3 23.2 17.2 15.4 24.1 16.5 21.9 23.3\n",
      " 22.6 13.8 16.2 12.8 11.9 14.8 11.9 16.4 20.5 20.1 20.4 20.1 13.4 15.2\n",
      " 23.  23.1  9.5 23.1 33.8 20.3 13.8  9.5 33.2 46.  24.6 23.7 46.  24.8\n",
      " 12.7 29.4 22.  20.9 50.  19.4 23.  22.2 30.8 23.8 11.3 27.1 19.1 19.3\n",
      " 22.  33.1 14.5 33.1 16.2 21.7 35.4 19.3 46.  29.4 21.   8.3 23.2 23.2\n",
      " 21.7 16.2 22.  29.9 20.5 33.4 14.5 22.  17.7 20.1 21.7 15.2 26.6 20.6\n",
      " 25.  18.2 34.6 24.5 22.5 50.  29.1 50.  19.4 44.8 24.4 19.4 20.  23.1\n",
      " 15.6 19.   8.4 19.4 34.9 14.5 23.3 18.2 37.3 30.3 50.  22.3 18.5 19.3\n",
      " 14.8 35.4 50.  36.2 50.  13.8  7.  19.6 21.2 12.3 23.7 22.6 18.5 24.4\n",
      " 50. ]\n"
     ]
    }
   ],
   "source": [
    "print(y_pred)"
   ]
  },
  {
   "cell_type": "code",
   "execution_count": 14,
   "metadata": {},
   "outputs": [
    {
     "name": "stdout",
     "output_type": "stream",
     "text": [
      "['CRIM' 'ZN' 'INDUS' 'CHAS' 'NOX' 'RM' 'AGE' 'DIS' 'RAD' 'TAX' 'PTRATIO'\n",
      " 'B' 'LSTAT']\n"
     ]
    }
   ],
   "source": [
    "print(boston.feature_names)"
   ]
  },
  {
   "cell_type": "code",
   "execution_count": 15,
   "metadata": {},
   "outputs": [
    {
     "name": "stdout",
     "output_type": "stream",
     "text": [
      "Feature importance:  [0.06443122 0.00132834 0.00818228 0.00976958 0.03106248 0.54360307\n",
      " 0.01288247 0.05641397 0.00058055 0.01221748 0.02480959 0.01196389\n",
      " 0.22275509]\n"
     ]
    }
   ],
   "source": [
    "print(\"Feature importance: \", reg.feature_importances_)"
   ]
  },
  {
   "cell_type": "code",
   "execution_count": null,
   "metadata": {},
   "outputs": [],
   "source": []
  },
  {
   "cell_type": "code",
   "execution_count": 16,
   "metadata": {},
   "outputs": [],
   "source": [
    "wine = datasets.load_wine()"
   ]
  },
  {
   "cell_type": "code",
   "execution_count": 17,
   "metadata": {},
   "outputs": [],
   "source": [
    "x_train, x_test, y_train, y_test = train_test_split(wine.data, wine.target, test_size=0.25, random_state=4)"
   ]
  },
  {
   "cell_type": "code",
   "execution_count": 19,
   "metadata": {},
   "outputs": [
    {
     "name": "stdout",
     "output_type": "stream",
     "text": [
      "[2 2 0 0 1 2 0 1 0 1 1 0 2 2 0 1 0 1 1 2 1 2 1 2 0 2 1 1 2 2 0 1 0 1 2 2 0\n",
      " 0 0 2 2 0 0 1 1]\n"
     ]
    }
   ],
   "source": [
    "print(y_test)\n",
    "#Classifier"
   ]
  },
  {
   "cell_type": "code",
   "execution_count": 20,
   "metadata": {},
   "outputs": [],
   "source": [
    "clf = DecisionTreeClassifier()"
   ]
  },
  {
   "cell_type": "code",
   "execution_count": 21,
   "metadata": {},
   "outputs": [
    {
     "data": {
      "text/plain": [
       "DecisionTreeClassifier(class_weight=None, criterion='gini', max_depth=None,\n",
       "            max_features=None, max_leaf_nodes=None,\n",
       "            min_impurity_decrease=0.0, min_impurity_split=None,\n",
       "            min_samples_leaf=1, min_samples_split=2,\n",
       "            min_weight_fraction_leaf=0.0, presort=False, random_state=None,\n",
       "            splitter='best')"
      ]
     },
     "execution_count": 21,
     "metadata": {},
     "output_type": "execute_result"
    }
   ],
   "source": [
    "clf.fit(x_train,y_train)"
   ]
  },
  {
   "cell_type": "code",
   "execution_count": 22,
   "metadata": {},
   "outputs": [],
   "source": [
    "y_pred = clf.predict(x_test)"
   ]
  },
  {
   "cell_type": "code",
   "execution_count": 23,
   "metadata": {},
   "outputs": [
    {
     "name": "stdout",
     "output_type": "stream",
     "text": [
      "Acuuracy:  0.9111111111111111\n"
     ]
    }
   ],
   "source": [
    "acc = metrics.accuracy_score(y_test, y_pred)\n",
    "print(\"Acuuracy: \", acc)"
   ]
  },
  {
   "cell_type": "code",
   "execution_count": 25,
   "metadata": {},
   "outputs": [
    {
     "name": "stdout",
     "output_type": "stream",
     "text": [
      "['alcohol', 'malic_acid', 'ash', 'alcalinity_of_ash', 'magnesium', 'total_phenols', 'flavanoids', 'nonflavanoid_phenols', 'proanthocyanins', 'color_intensity', 'hue', 'od280/od315_of_diluted_wines', 'proline']\n"
     ]
    }
   ],
   "source": [
    "print(wine.feature_names)"
   ]
  },
  {
   "cell_type": "code",
   "execution_count": 26,
   "metadata": {},
   "outputs": [
    {
     "name": "stdout",
     "output_type": "stream",
     "text": [
      "Feature importance:  [0.01364138 0.         0.         0.         0.         0.12455196\n",
      " 0.         0.         0.         0.43030108 0.         0.04285558\n",
      " 0.38865   ]\n"
     ]
    }
   ],
   "source": [
    "print(\"Feature importance: \", clf.feature_importances_)"
   ]
  },
  {
   "cell_type": "code",
   "execution_count": null,
   "metadata": {},
   "outputs": [],
   "source": []
  }
 ],
 "metadata": {
  "kernelspec": {
   "display_name": "Python 3",
   "language": "python",
   "name": "python3"
  },
  "language_info": {
   "codemirror_mode": {
    "name": "ipython",
    "version": 3
   },
   "file_extension": ".py",
   "mimetype": "text/x-python",
   "name": "python",
   "nbconvert_exporter": "python",
   "pygments_lexer": "ipython3",
   "version": "3.6.8"
  }
 },
 "nbformat": 4,
 "nbformat_minor": 2
}
