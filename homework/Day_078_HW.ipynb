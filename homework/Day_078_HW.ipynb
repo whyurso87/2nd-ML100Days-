{
 "cells": [
  {
   "cell_type": "markdown",
   "metadata": {},
   "source": [
    "## Work\n",
    "1. 請嘗試將 preproc_x 替換成以每筆資料的 min/max 進行標準化至 -1 ~ 1 間，再進行訓練\n",
    "2. 請嘗試將 mlp 疊更深 (e.g 5~10 層)，進行訓練後觀察 learning curve 的走勢\n",
    "3. (optional) 請改用 GPU 進行訓練 (如果你有 GPU 的話)，比較使用 CPU 與 GPU 的訓練速度"
   ]
  },
  {
   "cell_type": "code",
   "execution_count": 1,
   "metadata": {},
   "outputs": [],
   "source": [
    "## \n",
    "\"\"\"\n",
    "Your code here (optional)\n",
    "確認硬體資源\n",
    "\"\"\"\n"
   ]
  },
  {
   "cell_type": "code",
   "execution_count": 1,
   "metadata": {},
   "outputs": [
    {
     "name": "stderr",
     "output_type": "stream",
     "text": [
      "Using TensorFlow backend.\n"
     ]
    }
   ],
   "source": [
    "import os\n",
    "import keras\n",
    "\n",
    "# 請嘗試設定 GPU：os.environ\n"
   ]
  },
  {
   "cell_type": "code",
   "execution_count": 2,
   "metadata": {},
   "outputs": [],
   "source": [
    "train, test = keras.datasets.cifar10.load_data()"
   ]
  },
  {
   "cell_type": "code",
   "execution_count": 4,
   "metadata": {},
   "outputs": [],
   "source": [
    "## 資料前處理\n",
    "\"\"\"\n",
    "Your code here\n",
    "\"\"\"\n",
    "def preproc_x(x, flatten=True):\n",
    "    x = x / 255.\n",
    "    if flatten:\n",
    "        x = x.reshape((len(x), -1))\n",
    "    return x\n",
    "\n",
    "def preproc_y(y, num_classes=10):\n",
    "    if y.shape[-1] == 1:\n",
    "        y = keras.utils.to_categorical(y, num_classes)\n",
    "    return y"
   ]
  },
  {
   "cell_type": "code",
   "execution_count": 5,
   "metadata": {},
   "outputs": [],
   "source": [
    "x_train, y_train = train\n",
    "x_test, y_test = test\n",
    "\n",
    "# Preproc the inputs\n",
    "x_train = preproc_x(x_train)\n",
    "x_test = preproc_x(x_test)\n",
    "\n",
    "# Preprc the outputs\n",
    "y_train = preproc_y(y_train)\n",
    "y_test = preproc_y(y_test)"
   ]
  },
  {
   "cell_type": "code",
   "execution_count": 7,
   "metadata": {},
   "outputs": [
    {
     "name": "stdout",
     "output_type": "stream",
     "text": [
      "_________________________________________________________________\n",
      "Layer (type)                 Output Shape              Param #   \n",
      "=================================================================\n",
      "input_1 (InputLayer)         (None, 3072)              0         \n",
      "_________________________________________________________________\n",
      "hidden_layer1 (Dense)        (None, 512)               1573376   \n",
      "_________________________________________________________________\n",
      "hidden_layer2 (Dense)        (None, 256)               131328    \n",
      "_________________________________________________________________\n",
      "hidden_layer3 (Dense)        (None, 128)               32896     \n",
      "_________________________________________________________________\n",
      "hidden_layer4 (Dense)        (None, 64)                8256      \n",
      "_________________________________________________________________\n",
      "hidden_layer5 (Dense)        (None, 32)                2080      \n",
      "_________________________________________________________________\n",
      "output (Dense)               (None, 10)                330       \n",
      "=================================================================\n",
      "Total params: 1,748,266\n",
      "Trainable params: 1,748,266\n",
      "Non-trainable params: 0\n",
      "_________________________________________________________________\n"
     ]
    }
   ],
   "source": [
    "\"\"\"Code Here\n",
    "建立你的神經網路\n",
    "\"\"\"\n",
    "def build_mlp(input_shape, output_units=10, num_neurons=[512, 256, 128, 64, 32]):\n",
    "    input_layer = keras.layers.Input(input_shape)\n",
    "    \n",
    "    for i, n_units in enumerate(num_neurons):\n",
    "        if i == 0:\n",
    "            x = keras.layers.Dense(units=n_units, activation=\"relu\", name=\"hidden_layer\"+str(i+1))(input_layer)\n",
    "        else:\n",
    "            x = keras.layers.Dense(units=n_units, activation=\"relu\", name=\"hidden_layer\"+str(i+1))(x)\n",
    "    \n",
    "    out = keras.layers.Dense(units=output_units, activation=\"softmax\", name=\"output\")(x)\n",
    "    \n",
    "    model = keras.models.Model(inputs=[input_layer], outputs=[out])\n",
    "    return model\n",
    "model=build_mlp(input_shape=x_train.shape[1:])\n",
    "model.summary()"
   ]
  },
  {
   "cell_type": "code",
   "execution_count": 8,
   "metadata": {},
   "outputs": [],
   "source": [
    "## 超參數設定\n",
    "LEARNING_RATE = 0.001\n",
    "EPOCHS = 100\n",
    "BATCH_SIZE = 256"
   ]
  },
  {
   "cell_type": "code",
   "execution_count": 9,
   "metadata": {},
   "outputs": [],
   "source": [
    "optimizer = keras.optimizers.Adam(lr=LEARNING_RATE)\n",
    "model.compile(loss=\"categorical_crossentropy\", metrics=[\"accuracy\"], optimizer=optimizer)"
   ]
  },
  {
   "cell_type": "code",
   "execution_count": 10,
   "metadata": {},
   "outputs": [
    {
     "name": "stdout",
     "output_type": "stream",
     "text": [
      "Train on 50000 samples, validate on 10000 samples\n",
      "Epoch 1/100\n",
      "50000/50000 [==============================] - 4s 76us/step - loss: 2.0229 - acc: 0.2544 - val_loss: 1.8831 - val_acc: 0.3033\n",
      "Epoch 2/100\n",
      "50000/50000 [==============================] - 2s 49us/step - loss: 1.8063 - acc: 0.3473 - val_loss: 1.7500 - val_acc: 0.3755\n",
      "Epoch 3/100\n",
      "50000/50000 [==============================] - 2s 48us/step - loss: 1.6922 - acc: 0.3920 - val_loss: 1.6601 - val_acc: 0.4087\n",
      "Epoch 4/100\n",
      "50000/50000 [==============================] - 2s 49us/step - loss: 1.6390 - acc: 0.4116 - val_loss: 1.6223 - val_acc: 0.4177\n",
      "Epoch 5/100\n",
      "50000/50000 [==============================] - 2s 49us/step - loss: 1.5750 - acc: 0.4361 - val_loss: 1.5513 - val_acc: 0.4452\n",
      "Epoch 6/100\n",
      "50000/50000 [==============================] - 2s 48us/step - loss: 1.5321 - acc: 0.4486 - val_loss: 1.5330 - val_acc: 0.4508\n",
      "Epoch 7/100\n",
      "50000/50000 [==============================] - 2s 49us/step - loss: 1.4976 - acc: 0.4626 - val_loss: 1.5338 - val_acc: 0.4476\n",
      "Epoch 8/100\n",
      "50000/50000 [==============================] - 2s 48us/step - loss: 1.4575 - acc: 0.4788 - val_loss: 1.4759 - val_acc: 0.4735\n",
      "Epoch 9/100\n",
      "50000/50000 [==============================] - 2s 48us/step - loss: 1.4320 - acc: 0.4854 - val_loss: 1.4631 - val_acc: 0.4849\n",
      "Epoch 10/100\n",
      "50000/50000 [==============================] - 2s 48us/step - loss: 1.4043 - acc: 0.4968 - val_loss: 1.4466 - val_acc: 0.4851\n",
      "Epoch 11/100\n",
      "50000/50000 [==============================] - 2s 48us/step - loss: 1.3742 - acc: 0.5089 - val_loss: 1.4584 - val_acc: 0.4828\n",
      "Epoch 12/100\n",
      "50000/50000 [==============================] - 2s 49us/step - loss: 1.3515 - acc: 0.5186 - val_loss: 1.4317 - val_acc: 0.4880\n",
      "Epoch 13/100\n",
      "50000/50000 [==============================] - 2s 49us/step - loss: 1.3352 - acc: 0.5212 - val_loss: 1.4036 - val_acc: 0.5062\n",
      "Epoch 14/100\n",
      "50000/50000 [==============================] - 2s 49us/step - loss: 1.3023 - acc: 0.5356 - val_loss: 1.4308 - val_acc: 0.4952\n",
      "Epoch 15/100\n",
      "50000/50000 [==============================] - 2s 49us/step - loss: 1.2844 - acc: 0.5414 - val_loss: 1.3847 - val_acc: 0.5060\n",
      "Epoch 16/100\n",
      "50000/50000 [==============================] - 2s 49us/step - loss: 1.2588 - acc: 0.5502 - val_loss: 1.4028 - val_acc: 0.5085\n",
      "Epoch 17/100\n",
      "50000/50000 [==============================] - 2s 49us/step - loss: 1.2382 - acc: 0.5586 - val_loss: 1.4372 - val_acc: 0.4993\n",
      "Epoch 18/100\n",
      "50000/50000 [==============================] - 2s 48us/step - loss: 1.2183 - acc: 0.5643 - val_loss: 1.3859 - val_acc: 0.5103\n",
      "Epoch 19/100\n",
      "50000/50000 [==============================] - 2s 49us/step - loss: 1.1981 - acc: 0.5739 - val_loss: 1.4227 - val_acc: 0.5021\n",
      "Epoch 20/100\n",
      "50000/50000 [==============================] - 2s 48us/step - loss: 1.1772 - acc: 0.5782 - val_loss: 1.3703 - val_acc: 0.5164\n",
      "Epoch 21/100\n",
      "50000/50000 [==============================] - 2s 49us/step - loss: 1.1578 - acc: 0.5870 - val_loss: 1.4022 - val_acc: 0.5119\n",
      "Epoch 22/100\n",
      "50000/50000 [==============================] - 2s 49us/step - loss: 1.1395 - acc: 0.5926 - val_loss: 1.3994 - val_acc: 0.5052\n",
      "Epoch 23/100\n",
      "50000/50000 [==============================] - 2s 48us/step - loss: 1.1280 - acc: 0.5947 - val_loss: 1.3661 - val_acc: 0.5298\n",
      "Epoch 24/100\n",
      "50000/50000 [==============================] - 2s 48us/step - loss: 1.1062 - acc: 0.6034 - val_loss: 1.3959 - val_acc: 0.5143\n",
      "Epoch 25/100\n",
      "50000/50000 [==============================] - 2s 48us/step - loss: 1.0873 - acc: 0.6091 - val_loss: 1.3721 - val_acc: 0.5250\n",
      "Epoch 26/100\n",
      "50000/50000 [==============================] - 2s 48us/step - loss: 1.0679 - acc: 0.6175 - val_loss: 1.3926 - val_acc: 0.5152\n",
      "Epoch 27/100\n",
      "50000/50000 [==============================] - 2s 48us/step - loss: 1.0561 - acc: 0.6224 - val_loss: 1.4199 - val_acc: 0.5191\n",
      "Epoch 28/100\n",
      "50000/50000 [==============================] - 2s 48us/step - loss: 1.0289 - acc: 0.6301 - val_loss: 1.4437 - val_acc: 0.5127\n",
      "Epoch 29/100\n",
      "50000/50000 [==============================] - 2s 48us/step - loss: 1.0200 - acc: 0.6341 - val_loss: 1.4434 - val_acc: 0.5133\n",
      "Epoch 30/100\n",
      "50000/50000 [==============================] - 2s 49us/step - loss: 0.9990 - acc: 0.6394 - val_loss: 1.4182 - val_acc: 0.5216\n",
      "Epoch 31/100\n",
      "50000/50000 [==============================] - 2s 48us/step - loss: 0.9854 - acc: 0.6463 - val_loss: 1.4115 - val_acc: 0.5244\n",
      "Epoch 32/100\n",
      "50000/50000 [==============================] - 2s 49us/step - loss: 0.9674 - acc: 0.6524 - val_loss: 1.4290 - val_acc: 0.5208\n",
      "Epoch 33/100\n",
      "50000/50000 [==============================] - 2s 48us/step - loss: 0.9532 - acc: 0.6573 - val_loss: 1.4260 - val_acc: 0.5274\n",
      "Epoch 34/100\n",
      "50000/50000 [==============================] - 2s 49us/step - loss: 0.9245 - acc: 0.6682 - val_loss: 1.4646 - val_acc: 0.5252\n",
      "Epoch 35/100\n",
      "50000/50000 [==============================] - 2s 48us/step - loss: 0.9132 - acc: 0.6733 - val_loss: 1.4804 - val_acc: 0.5112\n",
      "Epoch 36/100\n",
      "50000/50000 [==============================] - 2s 48us/step - loss: 0.8952 - acc: 0.6788 - val_loss: 1.4610 - val_acc: 0.5218\n",
      "Epoch 37/100\n",
      "50000/50000 [==============================] - 2s 48us/step - loss: 0.8830 - acc: 0.6831 - val_loss: 1.5102 - val_acc: 0.5177\n",
      "Epoch 38/100\n",
      "50000/50000 [==============================] - 2s 48us/step - loss: 0.8677 - acc: 0.6887 - val_loss: 1.5310 - val_acc: 0.5165\n",
      "Epoch 39/100\n",
      "50000/50000 [==============================] - 2s 48us/step - loss: 0.8525 - acc: 0.6951 - val_loss: 1.4818 - val_acc: 0.5211\n",
      "Epoch 40/100\n",
      "50000/50000 [==============================] - 2s 48us/step - loss: 0.8305 - acc: 0.7027 - val_loss: 1.5425 - val_acc: 0.5100\n",
      "Epoch 41/100\n",
      "50000/50000 [==============================] - 2s 49us/step - loss: 0.8323 - acc: 0.7023 - val_loss: 1.5566 - val_acc: 0.5179\n",
      "Epoch 42/100\n",
      "50000/50000 [==============================] - 2s 48us/step - loss: 0.8139 - acc: 0.7100 - val_loss: 1.5816 - val_acc: 0.5159\n",
      "Epoch 43/100\n",
      "50000/50000 [==============================] - 2s 48us/step - loss: 0.7941 - acc: 0.7148 - val_loss: 1.5921 - val_acc: 0.5193\n",
      "Epoch 44/100\n",
      "50000/50000 [==============================] - 2s 48us/step - loss: 0.7713 - acc: 0.7231 - val_loss: 1.5913 - val_acc: 0.5210\n",
      "Epoch 45/100\n",
      "50000/50000 [==============================] - 2s 49us/step - loss: 0.7605 - acc: 0.7273 - val_loss: 1.6376 - val_acc: 0.5141\n",
      "Epoch 46/100\n",
      "50000/50000 [==============================] - 2s 49us/step - loss: 0.7412 - acc: 0.7332 - val_loss: 1.6181 - val_acc: 0.5159\n",
      "Epoch 47/100\n",
      "50000/50000 [==============================] - 2s 49us/step - loss: 0.7424 - acc: 0.7321 - val_loss: 1.6842 - val_acc: 0.5210\n",
      "Epoch 48/100\n",
      "50000/50000 [==============================] - 2s 49us/step - loss: 0.7338 - acc: 0.7368 - val_loss: 1.7010 - val_acc: 0.5104\n",
      "Epoch 49/100\n",
      "50000/50000 [==============================] - 3s 52us/step - loss: 0.7224 - acc: 0.7414 - val_loss: 1.6669 - val_acc: 0.5212\n",
      "Epoch 50/100\n",
      "50000/50000 [==============================] - 3s 51us/step - loss: 0.7011 - acc: 0.7486 - val_loss: 1.7233 - val_acc: 0.5168\n",
      "Epoch 51/100\n",
      "50000/50000 [==============================] - 3s 50us/step - loss: 0.6845 - acc: 0.7533 - val_loss: 1.7607 - val_acc: 0.5183\n",
      "Epoch 52/100\n",
      "50000/50000 [==============================] - 2s 49us/step - loss: 0.6737 - acc: 0.7572 - val_loss: 1.7581 - val_acc: 0.5126\n",
      "Epoch 53/100\n",
      "50000/50000 [==============================] - 2s 49us/step - loss: 0.6575 - acc: 0.7641 - val_loss: 1.7949 - val_acc: 0.5164\n",
      "Epoch 54/100\n",
      "50000/50000 [==============================] - 2s 49us/step - loss: 0.6581 - acc: 0.7641 - val_loss: 1.8249 - val_acc: 0.5122\n",
      "Epoch 55/100\n",
      "50000/50000 [==============================] - 2s 49us/step - loss: 0.6397 - acc: 0.7701 - val_loss: 1.8731 - val_acc: 0.5146\n",
      "Epoch 56/100\n",
      "50000/50000 [==============================] - 2s 49us/step - loss: 0.6205 - acc: 0.7790 - val_loss: 1.8562 - val_acc: 0.5091\n",
      "Epoch 57/100\n",
      "50000/50000 [==============================] - 2s 49us/step - loss: 0.6205 - acc: 0.7752 - val_loss: 1.9087 - val_acc: 0.5143\n",
      "Epoch 58/100\n",
      "50000/50000 [==============================] - 2s 48us/step - loss: 0.6036 - acc: 0.7835 - val_loss: 1.9194 - val_acc: 0.5125\n",
      "Epoch 59/100\n"
     ]
    },
    {
     "name": "stdout",
     "output_type": "stream",
     "text": [
      "50000/50000 [==============================] - 2s 48us/step - loss: 0.5964 - acc: 0.7864 - val_loss: 1.9143 - val_acc: 0.5177\n",
      "Epoch 60/100\n",
      "50000/50000 [==============================] - 2s 48us/step - loss: 0.5865 - acc: 0.7892 - val_loss: 1.9388 - val_acc: 0.5147\n",
      "Epoch 61/100\n",
      "50000/50000 [==============================] - 2s 48us/step - loss: 0.5828 - acc: 0.7910 - val_loss: 2.0672 - val_acc: 0.5071\n",
      "Epoch 62/100\n",
      "50000/50000 [==============================] - 2s 49us/step - loss: 0.5719 - acc: 0.7946 - val_loss: 2.0334 - val_acc: 0.5132\n",
      "Epoch 63/100\n",
      "50000/50000 [==============================] - 2s 49us/step - loss: 0.5609 - acc: 0.7989 - val_loss: 1.9984 - val_acc: 0.5178\n",
      "Epoch 64/100\n",
      "50000/50000 [==============================] - 2s 50us/step - loss: 0.5417 - acc: 0.8055 - val_loss: 2.0965 - val_acc: 0.5136\n",
      "Epoch 65/100\n",
      "50000/50000 [==============================] - 2s 49us/step - loss: 0.5398 - acc: 0.8052 - val_loss: 2.1478 - val_acc: 0.5101\n",
      "Epoch 66/100\n",
      "50000/50000 [==============================] - 2s 49us/step - loss: 0.5198 - acc: 0.8138 - val_loss: 2.1128 - val_acc: 0.5124\n",
      "Epoch 67/100\n",
      "50000/50000 [==============================] - 2s 49us/step - loss: 0.5055 - acc: 0.8190 - val_loss: 2.1144 - val_acc: 0.5079\n",
      "Epoch 68/100\n",
      "50000/50000 [==============================] - 2s 49us/step - loss: 0.5100 - acc: 0.8172 - val_loss: 2.1676 - val_acc: 0.5096\n",
      "Epoch 69/100\n",
      "50000/50000 [==============================] - 2s 49us/step - loss: 0.5041 - acc: 0.8189 - val_loss: 2.2172 - val_acc: 0.5099\n",
      "Epoch 70/100\n",
      "50000/50000 [==============================] - 2s 49us/step - loss: 0.5193 - acc: 0.8128 - val_loss: 2.1588 - val_acc: 0.5077\n",
      "Epoch 71/100\n",
      "50000/50000 [==============================] - 2s 49us/step - loss: 0.4773 - acc: 0.8298 - val_loss: 2.1813 - val_acc: 0.4988\n",
      "Epoch 72/100\n",
      "50000/50000 [==============================] - 2s 50us/step - loss: 0.4968 - acc: 0.8243 - val_loss: 2.2103 - val_acc: 0.5114\n",
      "Epoch 73/100\n",
      "50000/50000 [==============================] - 2s 49us/step - loss: 0.4749 - acc: 0.8284 - val_loss: 2.2445 - val_acc: 0.5028\n",
      "Epoch 74/100\n",
      "50000/50000 [==============================] - 2s 49us/step - loss: 0.4661 - acc: 0.8336 - val_loss: 2.2882 - val_acc: 0.5136\n",
      "Epoch 75/100\n",
      "50000/50000 [==============================] - 2s 49us/step - loss: 0.4500 - acc: 0.8382 - val_loss: 2.3509 - val_acc: 0.5086\n",
      "Epoch 76/100\n",
      "50000/50000 [==============================] - 2s 49us/step - loss: 0.4598 - acc: 0.8348 - val_loss: 2.3669 - val_acc: 0.5117\n",
      "Epoch 77/100\n",
      "50000/50000 [==============================] - 2s 49us/step - loss: 0.4567 - acc: 0.8362 - val_loss: 2.3029 - val_acc: 0.5115\n",
      "Epoch 78/100\n",
      "50000/50000 [==============================] - 2s 49us/step - loss: 0.4406 - acc: 0.8430 - val_loss: 2.3647 - val_acc: 0.5072\n",
      "Epoch 79/100\n",
      "50000/50000 [==============================] - 2s 49us/step - loss: 0.4415 - acc: 0.8419 - val_loss: 2.4539 - val_acc: 0.5070\n",
      "Epoch 80/100\n",
      "50000/50000 [==============================] - 2s 49us/step - loss: 0.4333 - acc: 0.8428 - val_loss: 2.3984 - val_acc: 0.5062\n",
      "Epoch 81/100\n",
      "50000/50000 [==============================] - 2s 49us/step - loss: 0.4258 - acc: 0.8472 - val_loss: 2.4833 - val_acc: 0.5036\n",
      "Epoch 82/100\n",
      "50000/50000 [==============================] - 2s 49us/step - loss: 0.4054 - acc: 0.8550 - val_loss: 2.4044 - val_acc: 0.5105\n",
      "Epoch 83/100\n",
      "50000/50000 [==============================] - 2s 50us/step - loss: 0.4026 - acc: 0.8543 - val_loss: 2.5025 - val_acc: 0.5095\n",
      "Epoch 84/100\n",
      "50000/50000 [==============================] - 3s 51us/step - loss: 0.4164 - acc: 0.8507 - val_loss: 2.6673 - val_acc: 0.4855\n",
      "Epoch 85/100\n",
      "50000/50000 [==============================] - 3s 51us/step - loss: 0.4182 - acc: 0.8503 - val_loss: 2.7016 - val_acc: 0.4923\n",
      "Epoch 86/100\n",
      "50000/50000 [==============================] - 2s 49us/step - loss: 0.3839 - acc: 0.8620 - val_loss: 2.6277 - val_acc: 0.5056\n",
      "Epoch 87/100\n",
      "50000/50000 [==============================] - 2s 49us/step - loss: 0.4133 - acc: 0.8519 - val_loss: 2.5167 - val_acc: 0.5052\n",
      "Epoch 88/100\n",
      "50000/50000 [==============================] - 3s 51us/step - loss: 0.3968 - acc: 0.8584 - val_loss: 2.5710 - val_acc: 0.5071\n",
      "Epoch 89/100\n",
      "50000/50000 [==============================] - 2s 50us/step - loss: 0.3854 - acc: 0.8622 - val_loss: 2.6780 - val_acc: 0.4927\n",
      "Epoch 90/100\n",
      "50000/50000 [==============================] - 2s 50us/step - loss: 0.3772 - acc: 0.8654 - val_loss: 2.5138 - val_acc: 0.5061\n",
      "Epoch 91/100\n",
      "50000/50000 [==============================] - 2s 50us/step - loss: 0.3637 - acc: 0.8713 - val_loss: 2.7089 - val_acc: 0.5013\n",
      "Epoch 92/100\n",
      "50000/50000 [==============================] - 2s 49us/step - loss: 0.3848 - acc: 0.8630 - val_loss: 2.7087 - val_acc: 0.5013\n",
      "Epoch 93/100\n",
      "50000/50000 [==============================] - 2s 49us/step - loss: 0.3600 - acc: 0.8724 - val_loss: 2.7411 - val_acc: 0.4950\n",
      "Epoch 94/100\n",
      "50000/50000 [==============================] - 2s 50us/step - loss: 0.3586 - acc: 0.8710 - val_loss: 2.7733 - val_acc: 0.5147\n",
      "Epoch 95/100\n",
      "50000/50000 [==============================] - 2s 49us/step - loss: 0.3538 - acc: 0.8734 - val_loss: 2.7660 - val_acc: 0.5050\n",
      "Epoch 96/100\n",
      "50000/50000 [==============================] - 2s 49us/step - loss: 0.3455 - acc: 0.8758 - val_loss: 2.7529 - val_acc: 0.5093\n",
      "Epoch 97/100\n",
      "50000/50000 [==============================] - 2s 49us/step - loss: 0.3513 - acc: 0.8746 - val_loss: 2.8866 - val_acc: 0.4969\n",
      "Epoch 98/100\n",
      "50000/50000 [==============================] - 2s 49us/step - loss: 0.3340 - acc: 0.8804 - val_loss: 2.8894 - val_acc: 0.5046\n",
      "Epoch 99/100\n",
      "50000/50000 [==============================] - 2s 49us/step - loss: 0.3319 - acc: 0.8800 - val_loss: 2.8240 - val_acc: 0.5051\n",
      "Epoch 100/100\n",
      "50000/50000 [==============================] - 2s 49us/step - loss: 0.3518 - acc: 0.8740 - val_loss: 2.8154 - val_acc: 0.4957\n"
     ]
    },
    {
     "data": {
      "text/plain": [
       "<keras.callbacks.History at 0x1f9b2469198>"
      ]
     },
     "execution_count": 10,
     "metadata": {},
     "output_type": "execute_result"
    }
   ],
   "source": [
    "model.fit(x_train, y_train, \n",
    "          epochs=EPOCHS, \n",
    "          batch_size=BATCH_SIZE, \n",
    "          validation_data=(x_test, y_test), \n",
    "          shuffle=True)"
   ]
  },
  {
   "cell_type": "code",
   "execution_count": 12,
   "metadata": {},
   "outputs": [
    {
     "data": {
      "image/png": "[encoded data removed]",
      "text/plain": [
       "<Figure size 432x288 with 1 Axes>"
      ]
     },
     "metadata": {
      "needs_background": "light"
     },
     "output_type": "display_data"
    },
    {
     "data": {
      "image/png": "[encoded data removed]",
      "text/plain": [
       "<Figure size 432x288 with 1 Axes>"
      ]
     },
     "metadata": {
      "needs_background": "light"
     },
     "output_type": "display_data"
    }
   ],
   "source": [
    "import matplotlib.pyplot as plt\n",
    "\n",
    "\n",
    "train_loss = model.history.history[\"loss\"]\n",
    "valid_loss = model.history.history[\"val_loss\"]\n",
    "\n",
    "train_acc = model.history.history[\"acc\"]\n",
    "valid_acc = model.history.history[\"val_acc\"]\n",
    "\n",
    "plt.plot(range(len(train_loss)), train_loss, label=\"train loss\")\n",
    "plt.plot(range(len(valid_loss)), valid_loss, label=\"valid loss\")\n",
    "plt.legend()\n",
    "plt.title(\"Loss\")\n",
    "plt.show()\n",
    "\n",
    "plt.plot(range(len(train_acc)), train_acc, label=\"train accuracy\")\n",
    "plt.plot(range(len(valid_acc)), valid_acc, label=\"valid accuracy\")\n",
    "plt.legend()\n",
    "plt.title(\"Accuracy\")\n",
    "plt.show()"
   ]
  },
  {
   "cell_type": "code",
   "execution_count": null,
   "metadata": {},
   "outputs": [],
   "source": []
  }
 ],
 "metadata": {
  "kernelspec": {
   "display_name": "Python 3",
   "language": "python",
   "name": "python3"
  },
  "language_info": {
   "codemirror_mode": {
    "name": "ipython",
    "version": 3
   },
   "file_extension": ".py",
   "mimetype": "text/x-python",
   "name": "python",
   "nbconvert_exporter": "python",
   "pygments_lexer": "ipython3",
   "version": "3.6.8"
  }
 },
 "nbformat": 4,
 "nbformat_minor": 2
}
