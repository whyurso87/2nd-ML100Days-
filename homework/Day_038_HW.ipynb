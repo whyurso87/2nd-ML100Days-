{
 "cells": [
  {
   "cell_type": "markdown",
   "metadata": {},
   "source": [
    "## [作業重點]\n",
    "使用 Sklearn 中的線性迴歸模型，來訓練各種資料集，務必了解送進去模型訓練的**資料型態**為何，也請了解模型中各項參數的意義"
   ]
  },
  {
   "cell_type": "markdown",
   "metadata": {},
   "source": [
    "## 作業\n",
    "試著使用 sklearn datasets 的其他資料集 (wine, boston, ...)，來訓練自己的線性迴歸模型。"
   ]
  },
  {
   "cell_type": "markdown",
   "metadata": {},
   "source": [
    "### HINT: 注意 label 的型態，確定資料集的目標是分類還是回歸，在使用正確的模型訓練！"
   ]
  },
  {
   "cell_type": "code",
   "execution_count": 2,
   "metadata": {},
   "outputs": [],
   "source": [
    "import numpy as np\n",
    "import matplotlib.pyplot as plt\n",
    "from sklearn import datasets, linear_model\n",
    "from sklearn.model_selection import train_test_split\n",
    "from sklearn.metrics import mean_squared_error, r2_score, accuracy_score"
   ]
  },
  {
   "cell_type": "markdown",
   "metadata": {},
   "source": [
    "## Wine"
   ]
  },
  {
   "cell_type": "code",
   "execution_count": 14,
   "metadata": {},
   "outputs": [],
   "source": [
    "wine = datasets.load_wine()"
   ]
  },
  {
   "cell_type": "code",
   "execution_count": 15,
   "metadata": {},
   "outputs": [],
   "source": [
    "x_train, x_test, y_train, y_test = train_test_split(wine.data, \n",
    "                                                    wine.target, \n",
    "                                                    test_size=0.1, \n",
    "                                                    random_state=4)\n"
   ]
  },
  {
   "cell_type": "code",
   "execution_count": 16,
   "metadata": {},
   "outputs": [
    {
     "data": {
      "text/plain": [
       "(160, 13)"
      ]
     },
     "execution_count": 16,
     "metadata": {},
     "output_type": "execute_result"
    }
   ],
   "source": [
    "x_train.shape"
   ]
  },
  {
   "cell_type": "code",
   "execution_count": 17,
   "metadata": {},
   "outputs": [
    {
     "data": {
      "text/plain": [
       "(160,)"
      ]
     },
     "execution_count": 17,
     "metadata": {},
     "output_type": "execute_result"
    }
   ],
   "source": [
    "y_train.shape"
   ]
  },
  {
   "cell_type": "code",
   "execution_count": 25,
   "metadata": {},
   "outputs": [
    {
     "name": "stdout",
     "output_type": "stream",
     "text": [
      "[1 2 1 2 1 2 0 2 1 1 2 2 0 1 0 1 2 2 0 0 0 2 2 0 0 1 1 0 1 2 0 2 1 1 1 0 0\n",
      " 1 1 1 2 2 0 2 1 1 1 0 2 1 1 0 1 1 1 0 1 2 0 0 1 1 2 2 2 1 0 0 2 0 0 1 0 1\n",
      " 0 1 2 2 1 1 1 1 1 0 2 2 1 1 1 0 0 1 0 0 0 1 1 2 2 0 2 1 2 0 2 2 1 0 1 0 0\n",
      " 1 1 0 1 1 2 2 0 1 0 2 1 2 1 1 1 1 0 2 0 2 1 0 2 0 1 0 2 0 0 2 0 1 0 0 2 0\n",
      " 0 1 1 1 0 2 0 1 1 1 2 1]\n"
     ]
    }
   ],
   "source": [
    "print(y_train)"
   ]
  },
  {
   "cell_type": "markdown",
   "metadata": {},
   "source": [
    "it's target must be classifcation"
   ]
  },
  {
   "cell_type": "code",
   "execution_count": 19,
   "metadata": {},
   "outputs": [],
   "source": [
    "logreg = linear_model.LogisticRegression()"
   ]
  },
  {
   "cell_type": "code",
   "execution_count": 20,
   "metadata": {},
   "outputs": [
    {
     "name": "stderr",
     "output_type": "stream",
     "text": [
      "C:\\ProgramData\\Anaconda3\\lib\\site-packages\\sklearn\\linear_model\\logistic.py:433: FutureWarning: Default solver will be changed to 'lbfgs' in 0.22. Specify a solver to silence this warning.\n",
      "  FutureWarning)\n",
      "C:\\ProgramData\\Anaconda3\\lib\\site-packages\\sklearn\\linear_model\\logistic.py:460: FutureWarning: Default multi_class will be changed to 'auto' in 0.22. Specify the multi_class option to silence this warning.\n",
      "  \"this warning.\", FutureWarning)\n"
     ]
    },
    {
     "data": {
      "text/plain": [
       "LogisticRegression(C=1.0, class_weight=None, dual=False, fit_intercept=True,\n",
       "          intercept_scaling=1, max_iter=100, multi_class='warn',\n",
       "          n_jobs=None, penalty='l2', random_state=None, solver='warn',\n",
       "          tol=0.0001, verbose=0, warm_start=False)"
      ]
     },
     "execution_count": 20,
     "metadata": {},
     "output_type": "execute_result"
    }
   ],
   "source": [
    "logreg.fit(x_train,y_train)"
   ]
  },
  {
   "cell_type": "code",
   "execution_count": 21,
   "metadata": {},
   "outputs": [],
   "source": [
    "y_pred = logreg.predict(x_test)"
   ]
  },
  {
   "cell_type": "code",
   "execution_count": 24,
   "metadata": {},
   "outputs": [
    {
     "name": "stdout",
     "output_type": "stream",
     "text": [
      "Accuracy: 0.9444444444444444\n"
     ]
    }
   ],
   "source": [
    "acc = accuracy_score(y_test,y_pred)\n",
    "print('Accuracy:',acc)"
   ]
  },
  {
   "cell_type": "markdown",
   "metadata": {},
   "source": [
    "## Boston"
   ]
  },
  {
   "cell_type": "code",
   "execution_count": 38,
   "metadata": {},
   "outputs": [],
   "source": [
    "boston = datasets.load_boston()"
   ]
  },
  {
   "cell_type": "code",
   "execution_count": 41,
   "metadata": {},
   "outputs": [
    {
     "name": "stdout",
     "output_type": "stream",
     "text": [
      "Data shape:  (506, 1)\n"
     ]
    }
   ],
   "source": [
    "X = boston.data[:, np.newaxis, 2]\n",
    "print(\"Data shape: \", X.shape)\n",
    "x_train, x_test, y_train, y_test = train_test_split(X, \n",
    "                                                    boston.target, \n",
    "                                                    test_size=0.1, \n",
    "                                                    random_state=4)"
   ]
  },
  {
   "cell_type": "code",
   "execution_count": 42,
   "metadata": {},
   "outputs": [
    {
     "data": {
      "text/plain": [
       "(455, 1)"
      ]
     },
     "execution_count": 42,
     "metadata": {},
     "output_type": "execute_result"
    }
   ],
   "source": [
    "x_train.shape"
   ]
  },
  {
   "cell_type": "code",
   "execution_count": 43,
   "metadata": {},
   "outputs": [
    {
     "data": {
      "text/plain": [
       "(455,)"
      ]
     },
     "execution_count": 43,
     "metadata": {},
     "output_type": "execute_result"
    }
   ],
   "source": [
    "y_train.shape"
   ]
  },
  {
   "cell_type": "code",
   "execution_count": 44,
   "metadata": {},
   "outputs": [
    {
     "data": {
      "text/plain": [
       "array([22.3, 12.1, 28.6, 15.6, 19.2, 27.5, 32. , 20.2, 32.4, 18.4, 19.9,\n",
       "       29.8, 20.1, 43.5, 24.5, 50. ,  7.2, 19.1, 21.2, 22.6, 22.9, 25. ,\n",
       "       23.3, 17.3, 33. , 17.8, 23.8, 10.9, 18.6, 19.3, 16.7, 28. , 18.2,\n",
       "       29.1, 11.9, 32.7, 18.3, 22.4, 45.4, 31.5, 48.5, 19.8, 41.7, 22.2,\n",
       "       20.3, 20.7, 50. , 11.8, 19.5,  8.7, 23.3, 36.4, 13.3, 24.8, 20.4,\n",
       "       44. , 29. , 39.8, 22.9, 23. , 15.3, 23.7, 30.5, 33.2, 26.4, 50. ,\n",
       "       14.2,  8.1, 16. , 20. ,  8.5, 23.7, 26.4, 18.5, 20. , 50. , 13.4,\n",
       "       13.1, 12.7, 50. , 15.6, 50. , 29.4, 42.8, 21.7, 11.8, 24.8, 19.4,\n",
       "       17.5, 13.4, 13.9, 24.5, 15. , 13.8, 23.1, 12.5, 14.9, 21.9, 18.5,\n",
       "       30.8, 14.6, 23.9, 18.2, 21.7, 13.5, 50. , 23.1, 48.8, 13.8, 20.1,\n",
       "       50. , 34.9,  8.4, 15.2, 23. , 24.7, 25.3, 17.2, 50. , 22.9, 20.2,\n",
       "       17.4, 19.5, 18.5, 14. , 22.6, 14.1, 15.6, 46. , 20.5, 13.5, 10.4,\n",
       "       21.4, 21.6, 23.2, 23. , 17.6, 16.1,  5. ,  8.3, 27.5, 18.7, 21.7,\n",
       "       30.7,  5. , 11.3,  7. , 32.9, 14.6, 12. , 28.1, 18. ,  5.6, 23.6,\n",
       "       24.7, 22.5, 17.7, 13.1, 23.1, 25. , 14.9,  9.7, 22.8, 22. , 23.6,\n",
       "       14.3, 18.8, 19.9, 13.6, 19.4, 16.8, 20. , 43.1, 27.9, 20.1, 19. ,\n",
       "       19.2, 21.7, 33.1, 50. , 33.2, 20.1, 21.1,  8.8, 12.3, 14.5, 23.8,\n",
       "       18.7, 21.8, 21.9, 21.7, 17.1, 23.1, 36.1, 28.2, 11.5, 19. , 22. ,\n",
       "       10.5, 21.4, 16.5, 20.6, 23.3, 23.5, 15. , 26.5, 50. , 10.5, 17.5,\n",
       "       13.6, 17.2, 19.1, 16.4, 20.6, 20.9, 30.1, 20.7, 22.2, 24.6, 25.2,\n",
       "       37.9, 20.1, 29.6, 18.7, 23. , 22.9, 24.6, 24.8, 20.8, 22.4, 18.2,\n",
       "       14.4, 23.2, 13. , 19.7, 21.2, 21.7, 24. , 22. , 20.6, 11.9, 24.3,\n",
       "       23.8, 22.8, 13.3, 25. , 21. , 20.4, 33.1, 48.3, 14.5, 36. , 22.6,\n",
       "       18.4, 18.9, 12.6, 15.2, 24.1, 29.9, 23.9, 31.6, 11.7, 20.3, 16.6,\n",
       "       22.2, 26.6, 36.2, 28.4, 20.8, 15.4, 50. , 18.1, 23.1, 21.5, 13.1,\n",
       "       21.8,  8.5, 15.6, 26.2, 32.2,  9.6, 31.6, 17.8, 34.7, 20. , 21. ,\n",
       "       22.7, 28.7, 23.9, 35.4, 13.2, 18.3, 13.1, 23.1, 20.6,  7. , 13.4,\n",
       "       24.1, 30.1, 20.3, 15.6, 26.6, 15. , 37.2, 27.1, 24.4, 17.8, 19.8,\n",
       "       10.2, 23.1, 37.3, 23.2, 19.1, 19.6, 38.7, 25. , 23.7, 22.8, 16.2,\n",
       "       20.3, 24.3, 21.2, 19.3, 20.6, 21.4, 14.4, 19.9, 16.2, 22.5, 19.1,\n",
       "       17.8, 30.1, 14.8, 35.2, 29. , 25.1, 21.5,  8.3, 22. , 44.8, 24.5,\n",
       "       34.9, 17.2, 33.8, 19.6, 14.1,  8.4, 33.3, 23.4, 21.4, 18.9, 21.2,\n",
       "        7.2, 27.1, 14.5, 10.4, 21.4, 14.1, 10.2, 24.3, 18.6, 18.9, 10.9,\n",
       "       24.4, 19.3, 25. , 36.5, 20.5, 20.4, 19.6, 27.9, 21.1, 26.6, 10.8,\n",
       "       36.2, 34.9, 31.5, 31.7, 34.6, 17.8, 29.8, 35.1, 17.1, 13.4, 37. ,\n",
       "       15.2, 27.5, 18.5, 19.6, 23.2, 32. , 23.4, 28.7, 22. , 13.8, 19.7,\n",
       "       20.9, 17.1, 28.4, 43.8, 22.5, 50. , 50. , 33.4, 17.9, 25. , 22.3,\n",
       "       50. ,  9.5, 10.2, 23.7, 23.8,  7.5, 23.9, 18.4, 20.4, 19.4, 17.4,\n",
       "       12.7, 13.8, 22. , 29.1, 24.7, 20.8, 24.1, 15.4, 19.6, 32.5, 24. ,\n",
       "        7.4, 25. , 15.7, 21.7, 21.2, 11.7, 22.7, 16.8, 21.6, 23.9, 22.1,\n",
       "       20.6, 19.4, 22.6, 29.6, 23.3, 13.8, 33.4, 12.7, 22.2, 25. ,  7.2,\n",
       "       30.3, 12.8, 22.6, 20.5])"
      ]
     },
     "execution_count": 44,
     "metadata": {},
     "output_type": "execute_result"
    }
   ],
   "source": [
    "y_train"
   ]
  },
  {
   "cell_type": "markdown",
   "metadata": {},
   "source": [
    "it's target must be regression"
   ]
  },
  {
   "cell_type": "code",
   "execution_count": 45,
   "metadata": {},
   "outputs": [],
   "source": [
    "regr = linear_model.LinearRegression()"
   ]
  },
  {
   "cell_type": "code",
   "execution_count": 46,
   "metadata": {},
   "outputs": [
    {
     "data": {
      "text/plain": [
       "LinearRegression(copy_X=True, fit_intercept=True, n_jobs=None,\n",
       "         normalize=False)"
      ]
     },
     "execution_count": 46,
     "metadata": {},
     "output_type": "execute_result"
    }
   ],
   "source": [
    "regr.fit(x_train, y_train)"
   ]
  },
  {
   "cell_type": "code",
   "execution_count": 47,
   "metadata": {},
   "outputs": [],
   "source": [
    "y_pred = regr.predict(x_test)"
   ]
  },
  {
   "cell_type": "code",
   "execution_count": 49,
   "metadata": {},
   "outputs": [
    {
     "data": {
      "image/png": "[encoded data removed]",
      "text/plain": [
       "<Figure size 432x288 with 1 Axes>"
      ]
     },
     "metadata": {
      "needs_background": "light"
     },
     "output_type": "display_data"
    }
   ],
   "source": [
    "plt.scatter(x_test, y_test,  color='black')\n",
    "plt.plot(x_test, y_pred, color='blue', linewidth=3)\n",
    "plt.show()"
   ]
  },
  {
   "cell_type": "markdown",
   "metadata": {},
   "source": [
    "## Breast_cancer"
   ]
  },
  {
   "cell_type": "code",
   "execution_count": 50,
   "metadata": {},
   "outputs": [],
   "source": [
    "breast_cancer = datasets.load_breast_cancer()"
   ]
  },
  {
   "cell_type": "code",
   "execution_count": 54,
   "metadata": {},
   "outputs": [],
   "source": [
    "x_train, x_test, y_train, y_test = train_test_split(breast_cancer.data, \n",
    "                                                    breast_cancer.target, \n",
    "                                                    test_size=0.1, \n",
    "                                                    random_state=4)"
   ]
  },
  {
   "cell_type": "code",
   "execution_count": 55,
   "metadata": {},
   "outputs": [
    {
     "data": {
      "text/plain": [
       "(512, 30)"
      ]
     },
     "execution_count": 55,
     "metadata": {},
     "output_type": "execute_result"
    }
   ],
   "source": [
    "x_train.shape"
   ]
  },
  {
   "cell_type": "code",
   "execution_count": 56,
   "metadata": {},
   "outputs": [
    {
     "data": {
      "text/plain": [
       "array([1, 1, 0, 1, 1, 1, 1, 1, 1, 1, 1, 0, 0, 1, 1, 1, 0, 1, 0, 0, 1, 1,\n",
       "       1, 1, 0, 0, 1, 1, 1, 1, 1, 0, 1, 1, 0, 1, 0, 0, 1, 0, 1, 1, 1, 1,\n",
       "       0, 0, 1, 1, 1, 1, 1, 1, 0, 1, 0, 0, 1, 1, 0, 1, 0, 0, 1, 1, 0, 1,\n",
       "       1, 1, 1, 1, 0, 0, 1, 1, 1, 0, 0, 1, 0, 0, 0, 1, 0, 1, 0, 0, 0, 1,\n",
       "       0, 1, 0, 1, 1, 1, 1, 1, 1, 0, 1, 1, 1, 1, 1, 1, 0, 1, 1, 0, 1, 1,\n",
       "       1, 1, 1, 1, 0, 0, 0, 1, 1, 1, 1, 1, 1, 0, 1, 0, 1, 1, 1, 0, 1, 1,\n",
       "       1, 0, 0, 1, 1, 1, 0, 0, 1, 1, 0, 1, 1, 0, 1, 0, 1, 0, 1, 1, 1, 1,\n",
       "       1, 0, 1, 1, 1, 0, 1, 1, 0, 1, 0, 1, 0, 1, 0, 1, 1, 0, 1, 1, 0, 0,\n",
       "       0, 0, 0, 1, 1, 0, 0, 1, 1, 1, 0, 1, 0, 1, 1, 0, 1, 0, 0, 1, 0, 1,\n",
       "       0, 0, 0, 1, 1, 0, 1, 1, 1, 0, 1, 0, 1, 1, 1, 0, 1, 0, 0, 1, 1, 1,\n",
       "       1, 1, 1, 0, 1, 1, 0, 1, 1, 0, 1, 1, 0, 1, 1, 1, 1, 1, 0, 0, 1, 0,\n",
       "       1, 1, 1, 0, 1, 0, 1, 0, 1, 1, 1, 1, 0, 1, 1, 0, 1, 1, 1, 0, 1, 1,\n",
       "       0, 0, 1, 1, 1, 1, 1, 1, 0, 0, 1, 1, 1, 0, 1, 0, 1, 1, 1, 1, 1, 1,\n",
       "       1, 1, 1, 1, 0, 1, 1, 0, 1, 0, 1, 1, 0, 1, 0, 1, 0, 0, 1, 0, 0, 0,\n",
       "       0, 0, 0, 1, 1, 1, 1, 0, 0, 1, 0, 1, 1, 1, 0, 1, 0, 0, 1, 1, 1, 0,\n",
       "       1, 0, 1, 0, 0, 1, 0, 1, 1, 1, 0, 1, 1, 1, 0, 1, 1, 1, 0, 0, 0, 1,\n",
       "       0, 1, 1, 0, 1, 0, 1, 1, 1, 1, 1, 1, 1, 0, 0, 1, 0, 0, 1, 0, 1, 1,\n",
       "       0, 1, 0, 1, 0, 0, 1, 1, 1, 1, 1, 1, 1, 1, 0, 1, 1, 1, 1, 0, 1, 1,\n",
       "       1, 0, 0, 1, 1, 0, 0, 0, 0, 0, 1, 0, 0, 1, 1, 0, 1, 0, 1, 1, 0, 0,\n",
       "       1, 1, 1, 0, 0, 1, 1, 0, 0, 0, 1, 0, 0, 1, 1, 0, 1, 1, 0, 0, 1, 1,\n",
       "       0, 0, 0, 1, 0, 1, 0, 1, 0, 1, 1, 1, 1, 1, 0, 1, 1, 0, 0, 0, 1, 0,\n",
       "       1, 1, 1, 1, 0, 1, 1, 1, 0, 1, 0, 1, 1, 0, 0, 1, 0, 1, 1, 1, 0, 1,\n",
       "       1, 1, 0, 1, 0, 0, 0, 0, 1, 0, 1, 1, 0, 1, 0, 1, 0, 1, 0, 1, 1, 1,\n",
       "       0, 1, 1, 1, 1, 0])"
      ]
     },
     "execution_count": 56,
     "metadata": {},
     "output_type": "execute_result"
    }
   ],
   "source": [
    "y_train"
   ]
  },
  {
   "cell_type": "markdown",
   "metadata": {},
   "source": [
    "it's target must be classifcation"
   ]
  },
  {
   "cell_type": "code",
   "execution_count": 57,
   "metadata": {},
   "outputs": [],
   "source": [
    "logreg = linear_model.LogisticRegression()"
   ]
  },
  {
   "cell_type": "code",
   "execution_count": 58,
   "metadata": {},
   "outputs": [
    {
     "name": "stderr",
     "output_type": "stream",
     "text": [
      "C:\\ProgramData\\Anaconda3\\lib\\site-packages\\sklearn\\linear_model\\logistic.py:433: FutureWarning: Default solver will be changed to 'lbfgs' in 0.22. Specify a solver to silence this warning.\n",
      "  FutureWarning)\n"
     ]
    },
    {
     "data": {
      "text/plain": [
       "LogisticRegression(C=1.0, class_weight=None, dual=False, fit_intercept=True,\n",
       "          intercept_scaling=1, max_iter=100, multi_class='warn',\n",
       "          n_jobs=None, penalty='l2', random_state=None, solver='warn',\n",
       "          tol=0.0001, verbose=0, warm_start=False)"
      ]
     },
     "execution_count": 58,
     "metadata": {},
     "output_type": "execute_result"
    }
   ],
   "source": [
    "logreg.fit(x_train, y_train)"
   ]
  },
  {
   "cell_type": "code",
   "execution_count": 59,
   "metadata": {},
   "outputs": [],
   "source": [
    "y_pred = logreg.predict(x_test)"
   ]
  },
  {
   "cell_type": "code",
   "execution_count": 60,
   "metadata": {},
   "outputs": [
    {
     "name": "stdout",
     "output_type": "stream",
     "text": [
      "Accuracy:  0.8771929824561403\n"
     ]
    }
   ],
   "source": [
    "acc = accuracy_score(y_test, y_pred)\n",
    "print(\"Accuracy: \", acc)"
   ]
  }
 ],
 "metadata": {
  "kernelspec": {
   "display_name": "Python 3",
   "language": "python",
   "name": "python3"
  },
  "language_info": {
   "codemirror_mode": {
    "name": "ipython",
    "version": 3
   },
   "file_extension": ".py",
   "mimetype": "text/x-python",
   "name": "python",
   "nbconvert_exporter": "python",
   "pygments_lexer": "ipython3",
   "version": "3.6.8"
  }
 },
 "nbformat": 4,
 "nbformat_minor": 2
}
