{
 "cells": [
  {
   "cell_type": "markdown",
   "metadata": {},
   "source": [
    "## Work\n",
    "1. 請嘗試寫一個 callback 用來記錄各類別在訓練過程中，對驗證集的 True Positive 與 True Negative"
   ]
  },
  {
   "cell_type": "code",
   "execution_count": 1,
   "metadata": {},
   "outputs": [
    {
     "name": "stderr",
     "output_type": "stream",
     "text": [
      "Using TensorFlow backend.\n"
     ]
    }
   ],
   "source": [
    "import os\n",
    "import keras\n",
    "\n",
    "# Disable GPU\n",
    "os.environ[\"CUDA_VISIBLE_DEVICES\"] = \"\""
   ]
  },
  {
   "cell_type": "code",
   "execution_count": 2,
   "metadata": {},
   "outputs": [],
   "source": [
    "train, test = keras.datasets.cifar10.load_data()"
   ]
  },
  {
   "cell_type": "code",
   "execution_count": 3,
   "metadata": {},
   "outputs": [],
   "source": [
    "## 資料前處理\n",
    "def preproc_x(x, flatten=True):\n",
    "    x = x / 255.\n",
    "    if flatten:\n",
    "        x = x.reshape((len(x), -1))\n",
    "    return x\n",
    "\n",
    "def preproc_y(y, num_classes=10):\n",
    "    if y.shape[-1] == 1:\n",
    "        y = keras.utils.to_categorical(y, num_classes)\n",
    "    return y    "
   ]
  },
  {
   "cell_type": "code",
   "execution_count": 4,
   "metadata": {},
   "outputs": [],
   "source": [
    "x_train, y_train = train\n",
    "x_test, y_test = test\n",
    "\n",
    "# Preproc the inputs\n",
    "x_train = preproc_x(x_train)\n",
    "x_test = preproc_x(x_test)\n",
    "\n",
    "# Preprc the outputs\n",
    "y_train = preproc_y(y_train)\n",
    "y_test = preproc_y(y_test)"
   ]
  },
  {
   "cell_type": "code",
   "execution_count": 5,
   "metadata": {},
   "outputs": [],
   "source": [
    "from keras.layers import BatchNormalization\n",
    "def build_mlp(input_shape, output_units=10, num_neurons=[256, 256, 256]):\n",
    "    \"\"\"Code Here\n",
    "    建立你的神經網路\n",
    "    \"\"\"\n",
    "    input_layer = keras.layers.Input(input_shape)\n",
    "    \n",
    "    for i, n_units in enumerate(num_neurons):\n",
    "        if i == 0:\n",
    "            x = keras.layers.Dense(units=n_units, \n",
    "                                   activation=\"relu\", \n",
    "                                   name=\"hidden_layer\"+str(i+1))(input_layer)\n",
    "            x = BatchNormalization()(x)\n",
    "        else:\n",
    "            x = keras.layers.Dense(units=n_units, \n",
    "                                   activation=\"relu\", \n",
    "                                   name=\"hidden_layer\"+str(i+1))(x)\n",
    "            x = BatchNormalization()(x)\n",
    "    \n",
    "    out = keras.layers.Dense(units=output_units, activation=\"softmax\", name=\"output\")(x)\n",
    "    \n",
    "    model = keras.models.Model(inputs=[input_layer], outputs=[out])\n",
    "    return model"
   ]
  },
  {
   "cell_type": "code",
   "execution_count": 6,
   "metadata": {},
   "outputs": [],
   "source": [
    "## 超參數設定\n",
    "LEARNING_RATE = 1e-3\n",
    "EPOCHS = 25\n",
    "BATCH_SIZE = 1024\n",
    "MOMENTUM = 0.95\n"
   ]
  },
  {
   "cell_type": "code",
   "execution_count": 10,
   "metadata": {},
   "outputs": [],
   "source": [
    "# 載入 Callbacks\n",
    "from keras.callbacks import Callback\n",
    "\n",
    "# Record_fp_tp\n",
    "from keras.callbacks import Callback\n",
    "import numpy as np\n",
    "\n",
    "# Record_fp_tp\n",
    "class Record_tp_tn(Callback):\n",
    "    \"\"\"Code Here\n",
    "    撰寫一個紀錄 ture positive 與 true negative 數量的 callbacks    \n",
    "    \"\"\"\n",
    "\n",
    "    def on_epoch_end(self, epoch, logs = {}, thres=0.5):\n",
    "        logs = logs or {}\n",
    "        y_true = self.validation_data[1].argmax(axis = 1)\n",
    "        y_pred = self.model.predict(self.validation_data[0])\n",
    "        y_pred = (y_pred[:, 1] >= thres) * 1\n",
    "        true_positives = np.sum(np.logical_and(y_pred == 1, y_true == 1))\n",
    "        true_negatives = np.sum(np.logical_and(y_pred == 0, y_true == 0))\n",
    "        logs[\"true_positives\"] = true_positives\n",
    "        logs[\"true_negatives\"] = true_negatives\n",
    "        \n",
    "rec_tptn = Record_tp_tn()"
   ]
  },
  {
   "cell_type": "code",
   "execution_count": 11,
   "metadata": {
    "scrolled": true
   },
   "outputs": [
    {
     "name": "stdout",
     "output_type": "stream",
     "text": [
      "_________________________________________________________________\n",
      "Layer (type)                 Output Shape              Param #   \n",
      "=================================================================\n",
      "input_2 (InputLayer)         (None, 3072)              0         \n",
      "_________________________________________________________________\n",
      "hidden_layer1 (Dense)        (None, 256)               786688    \n",
      "_________________________________________________________________\n",
      "batch_normalization_4 (Batch (None, 256)               1024      \n",
      "_________________________________________________________________\n",
      "hidden_layer2 (Dense)        (None, 256)               65792     \n",
      "_________________________________________________________________\n",
      "batch_normalization_5 (Batch (None, 256)               1024      \n",
      "_________________________________________________________________\n",
      "hidden_layer3 (Dense)        (None, 256)               65792     \n",
      "_________________________________________________________________\n",
      "batch_normalization_6 (Batch (None, 256)               1024      \n",
      "_________________________________________________________________\n",
      "output (Dense)               (None, 10)                2570      \n",
      "=================================================================\n",
      "Total params: 923,914\n",
      "Trainable params: 922,378\n",
      "Non-trainable params: 1,536\n",
      "_________________________________________________________________\n",
      "Train on 50000 samples, validate on 10000 samples\n",
      "Epoch 1/25\n",
      "50000/50000 [==============================] - 2s 46us/step - loss: 2.2226 - acc: 0.2716 - val_loss: 2.1462 - val_acc: 0.3094\n",
      "Epoch 2/25\n",
      "50000/50000 [==============================] - 2s 32us/step - loss: 1.7596 - acc: 0.3867 - val_loss: 1.8496 - val_acc: 0.3707\n",
      "Epoch 3/25\n",
      "50000/50000 [==============================] - 2s 32us/step - loss: 1.6327 - acc: 0.4261 - val_loss: 1.6971 - val_acc: 0.4107\n",
      "Epoch 4/25\n",
      "50000/50000 [==============================] - 2s 32us/step - loss: 1.5602 - acc: 0.4523 - val_loss: 1.6992 - val_acc: 0.4106\n",
      "Epoch 5/25\n",
      "50000/50000 [==============================] - 2s 32us/step - loss: 1.5087 - acc: 0.4689 - val_loss: 1.6248 - val_acc: 0.4358\n",
      "Epoch 6/25\n",
      "50000/50000 [==============================] - 2s 32us/step - loss: 1.4654 - acc: 0.4864 - val_loss: 1.5838 - val_acc: 0.4449\n",
      "Epoch 7/25\n",
      "50000/50000 [==============================] - 2s 32us/step - loss: 1.4272 - acc: 0.4995 - val_loss: 1.5476 - val_acc: 0.4562\n",
      "Epoch 8/25\n",
      "50000/50000 [==============================] - 2s 32us/step - loss: 1.3976 - acc: 0.5102 - val_loss: 1.5347 - val_acc: 0.4629\n",
      "Epoch 9/25\n",
      "50000/50000 [==============================] - 2s 31us/step - loss: 1.3667 - acc: 0.5234 - val_loss: 1.5195 - val_acc: 0.4638\n",
      "Epoch 10/25\n",
      "50000/50000 [==============================] - 2s 32us/step - loss: 1.3396 - acc: 0.5317 - val_loss: 1.5261 - val_acc: 0.4651\n",
      "Epoch 11/25\n",
      "50000/50000 [==============================] - 2s 32us/step - loss: 1.3161 - acc: 0.5392 - val_loss: 1.4972 - val_acc: 0.4748\n",
      "Epoch 12/25\n",
      "50000/50000 [==============================] - 2s 32us/step - loss: 1.2892 - acc: 0.5514 - val_loss: 1.4939 - val_acc: 0.4739\n",
      "Epoch 13/25\n",
      "50000/50000 [==============================] - 2s 31us/step - loss: 1.2677 - acc: 0.5585 - val_loss: 1.4782 - val_acc: 0.4789\n",
      "Epoch 14/25\n",
      "50000/50000 [==============================] - 2s 32us/step - loss: 1.2474 - acc: 0.5668 - val_loss: 1.4808 - val_acc: 0.4831\n",
      "Epoch 15/25\n",
      "50000/50000 [==============================] - 2s 32us/step - loss: 1.2265 - acc: 0.5739 - val_loss: 1.4728 - val_acc: 0.4831\n",
      "Epoch 16/25\n",
      "50000/50000 [==============================] - 2s 33us/step - loss: 1.2061 - acc: 0.5812 - val_loss: 1.4614 - val_acc: 0.4858\n",
      "Epoch 17/25\n",
      "50000/50000 [==============================] - 2s 33us/step - loss: 1.1868 - acc: 0.5891 - val_loss: 1.4631 - val_acc: 0.4830\n",
      "Epoch 18/25\n",
      "50000/50000 [==============================] - 2s 33us/step - loss: 1.1699 - acc: 0.5957 - val_loss: 1.4592 - val_acc: 0.4853\n",
      "Epoch 19/25\n",
      "50000/50000 [==============================] - 2s 32us/step - loss: 1.1496 - acc: 0.6034 - val_loss: 1.4554 - val_acc: 0.4847\n",
      "Epoch 20/25\n",
      "50000/50000 [==============================] - 2s 33us/step - loss: 1.1324 - acc: 0.6097 - val_loss: 1.4438 - val_acc: 0.4943\n",
      "Epoch 21/25\n",
      "50000/50000 [==============================] - 2s 34us/step - loss: 1.1153 - acc: 0.6162 - val_loss: 1.4501 - val_acc: 0.4922\n",
      "Epoch 22/25\n",
      "50000/50000 [==============================] - 2s 33us/step - loss: 1.0977 - acc: 0.6230 - val_loss: 1.4502 - val_acc: 0.4944\n",
      "Epoch 23/25\n",
      "50000/50000 [==============================] - 2s 34us/step - loss: 1.0801 - acc: 0.6284 - val_loss: 1.4582 - val_acc: 0.4927\n",
      "Epoch 24/25\n",
      "50000/50000 [==============================] - 2s 33us/step - loss: 1.0642 - acc: 0.6353 - val_loss: 1.4449 - val_acc: 0.4952\n",
      "Epoch 25/25\n",
      "50000/50000 [==============================] - 2s 32us/step - loss: 1.0478 - acc: 0.6423 - val_loss: 1.4527 - val_acc: 0.4916\n"
     ]
    }
   ],
   "source": [
    "model = build_mlp(input_shape=x_train.shape[1:])\n",
    "model.summary()\n",
    "optimizer = keras.optimizers.SGD(lr=LEARNING_RATE, nesterov=True, momentum=MOMENTUM)\n",
    "model.compile(loss=\"categorical_crossentropy\", metrics=[\"accuracy\"], optimizer=optimizer)\n",
    "\n",
    "\"\"\"Code Here\n",
    "將 callbacks 放入模型訓練流程中\n",
    "\"\"\"\n",
    "model.fit(x_train, y_train, \n",
    "          epochs=EPOCHS, \n",
    "          batch_size=BATCH_SIZE, \n",
    "          validation_data=(x_test, y_test), \n",
    "          shuffle=True,\n",
    "          callbacks=[rec_tptn]\n",
    "         )\n",
    "\n",
    "# Collect results\n",
    "train_loss = model.history.history[\"loss\"]\n",
    "valid_loss = model.history.history[\"val_loss\"]\n",
    "train_acc = model.history.history[\"acc\"]\n",
    "valid_acc = model.history.history[\"val_acc\"]\n",
    "\n",
    "\"\"\"Code Here\n",
    "將 tp/tn 從訓練完的模型中取出\n",
    "\"\"\"\n",
    "valid_tp = model.history.history['true_positives']\n",
    "valid_tn = model.history.history['true_negatives']"
   ]
  },
  {
   "cell_type": "code",
   "execution_count": 12,
   "metadata": {},
   "outputs": [
    {
     "data": {
      "image/png": "[encoded data removed]",
      "text/plain": [
       "<Figure size 432x288 with 1 Axes>"
      ]
     },
     "metadata": {
      "needs_background": "light"
     },
     "output_type": "display_data"
    },
    {
     "data": {
      "image/png": "[encoded data removed]",
      "text/plain": [
       "<Figure size 432x288 with 1 Axes>"
      ]
     },
     "metadata": {
      "needs_background": "light"
     },
     "output_type": "display_data"
    },
    {
     "data": {
      "image/png": "[encoded data removed]",
      "text/plain": [
       "<Figure size 432x288 with 1 Axes>"
      ]
     },
     "metadata": {
      "needs_background": "light"
     },
     "output_type": "display_data"
    }
   ],
   "source": [
    "import matplotlib.pyplot as plt\n",
    "%matplotlib inline\n",
    "\n",
    "plt.plot(range(len(train_loss)), train_loss, label=\"train loss\")\n",
    "plt.plot(range(len(valid_loss)), valid_loss, label=\"valid loss\")\n",
    "plt.legend()\n",
    "plt.title(\"Loss\")\n",
    "plt.show()\n",
    "\n",
    "plt.plot(range(len(train_acc)), train_acc, label=\"train accuracy\")\n",
    "plt.plot(range(len(valid_acc)), valid_acc, label=\"valid accuracy\")\n",
    "plt.legend()\n",
    "plt.title(\"Accuracy\")\n",
    "plt.show()\n",
    "\n",
    "plt.plot(range(len(valid_tp)), valid_tp, label=\"valid tp\", color=\"navy\")\n",
    "plt.plot(range(len(valid_tn)), valid_tn, label=\"valid tn\", color=\"red\")\n",
    "plt.legend()\n",
    "plt.title(\"True positives and True Negatives\")\n",
    "plt.show()\n"
   ]
  },
  {
   "cell_type": "code",
   "execution_count": null,
   "metadata": {},
   "outputs": [],
   "source": []
  }
 ],
 "metadata": {
  "kernelspec": {
   "display_name": "Python 3",
   "language": "python",
   "name": "python3"
  },
  "language_info": {
   "codemirror_mode": {
    "name": "ipython",
    "version": 3
   },
   "file_extension": ".py",
   "mimetype": "text/x-python",
   "name": "python",
   "nbconvert_exporter": "python",
   "pygments_lexer": "ipython3",
   "version": "3.6.8"
  }
 },
 "nbformat": 4,
 "nbformat_minor": 2
}
